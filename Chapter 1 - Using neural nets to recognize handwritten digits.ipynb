{
 "cells": [
  {
   "cell_type": "code",
   "execution_count": 1,
   "metadata": {},
   "outputs": [],
   "source": [
    "import matplotlib.pyplot as plt\n",
    "import numpy as np"
   ]
  },
  {
   "cell_type": "markdown",
   "metadata": {},
   "source": [
    "# I. Perceptrons and sigmoid neurons"
   ]
  },
  {
   "cell_type": "markdown",
   "metadata": {},
   "source": [
    "## Exercise 1\n",
    "\n",
    "Let $P_0$ be a perceptron, and $P_1$ be the perceptron obtained by multiplying $P_0$'s weights and biases by a constant $c>0$. For any neuron $N_0$ in $P_0$ with weights $(w_1, ..., w_n)$ and bias $b$, the weights and bias of the corresponding neuron $N_1$ in $P_1$ are respectively $(c w_1, ..., c w_n)$ and $c b$.\n",
    "\n",
    "Given an input vector $(x_1, ..., x_n)$, $N_0$ fires if and only if $\\sum_j w_j x_j + b > 0$. This condition is equivalent to $c (\\sum_j w_j x_j + b) > 0$, i.e. to the firing of $N_1$. By induction on the number of layers, $P_0$ and $P_1$'s outputs are therefore identical."
   ]
  },
  {
   "cell_type": "markdown",
   "metadata": {},
   "source": [
    "## Exercise 2"
   ]
  },
  {
   "cell_type": "markdown",
   "metadata": {},
   "source": [
    "As above, let $P_0$ be the original network, and $P_1$ be its modification. Let $N_0$ be a neuron in $P_0$ with weights $(w_1, ..., w_n)$ and bias $b$. \n",
    "* When fed with input $(x_1^c, ..., x_n^c)$, $N_0$ returns:\n",
    "$$output_0^c = \\mathbb{1}_{\\mathbb{R}_+^*}(\\sum_j w_j x_j^c + b)$$\n",
    "\n",
    "* The corresponding neuron $N_1$ in $P_1$ returns:\n",
    "$$output_1^c = \\frac {1} {1 + exp[-c(\\sum_j w_j x_j^c + b)]}$$\n",
    "\n",
    "Suppose then that as $c \\to \\infty$, we have $(x_1^c, ..., x_n^c) \\to (x_1^{\\infty}, ..., x_n^{\\infty})$, with $\\sum_j w_j x_j^{\\infty} + b \\neq 0$. Then:\n",
    "\n",
    "* $output_0^c \\to \\mathbb{1}_{\\mathbb{R}_+^*}(\\sum_j w_j x_j^{\\infty} + b)$\n",
    "\n",
    "* $output_1^c \\to output_1^{\\infty} = \\lim\\limits_{c \\rightarrow +\\infty}  \\frac {1} {1 + exp[-c(\\sum_j w_j x_j^c + b)]} = \\mathbb{1}_{\\mathbb{R}_+^*}(\\sum_j w_j x_j^{\\infty} + b)$\n",
    "\n",
    "Therefore $\\lim\\limits_{c \\rightarrow +\\infty} output_0^c = \\lim\\limits_{c \\rightarrow +\\infty} output_1^c$. As $c \\to \\infty$ the behaviour of $N_1$ is exactly the same as that of $N_0$. This enables a *rigourous* proof (again, by induction on the layer) that both *networks* behave the same."
   ]
  },
  {
   "cell_type": "markdown",
   "metadata": {},
   "source": [
    "Consider now the case of an *input layer* neuron fed with $(x_1, ..., x_n)$, such that  $\\sum_j w_j x_j + b = 0$ (here, the input does *not* depend on c). Then $output_0^c = 0$ whereas $output_1^c = 0.5$. Both neurons behave very differently, and so will the networks they are a part of."
   ]
  },
  {
   "cell_type": "markdown",
   "metadata": {},
   "source": [
    "# III. Learning with gradient descent\n"
   ]
  },
  {
   "cell_type": "markdown",
   "metadata": {},
   "source": [
    "## Exercise 1: how Gradient Descent is optimal-ish.\n",
    "* Suppose we're at some point $x \\in \\mathbb{R}^n$, and we're looking for a new point $x + \\Delta v$ in $x$'s neighbourhood that will hopefully get us closer to the minimum. To achieve this, a good heuristic is to make $C(x + \\Delta v)$ as small as possible. Since $C(x + \\Delta v) \\simeq C(x) + \\nabla C \\cdot \\Delta v$, this is equivalent to minimizing the function $$f : \\Delta v \\in \\mathbb{R}^n \\mapsto  \\nabla C \\cdot \\Delta v$$ subject to constraint: $||\\Delta v|| = \\epsilon$.\n",
    "\n",
    "\n",
    "\n",
    "* Cauchy-Schwarz shows that: $| f(\\Delta v) | = |\\nabla C \\cdot \\Delta | \\leq ||\\nabla C|| \\times ||\\Delta v||$. Thus $f(\\Delta v) \\geq - \\epsilon ||\\nabla C||$. Moreover, taking $\\eta = \\frac {\\epsilon} {||\\nabla C||}$ yields $f(- \\eta \\nabla C) = - \\epsilon ||\\nabla C||$, with $||- \\eta \\nabla C|| = \\epsilon$.\n",
    "\n",
    "\n",
    "\n",
    "* Therefore taking $\\Delta v = - \\eta \\nabla C$ solves the optimization problem. Gradient descent is **locally** optimal: it makes the greedy choice."
   ]
  },
  {
   "cell_type": "markdown",
   "metadata": {},
   "source": [
    "## Exercise 2: let's code Gradient Descent in 1D !"
   ]
  },
  {
   "cell_type": "markdown",
   "metadata": {},
   "source": [
    "The following function finds the minimum of a smooth function $f: \\mathbb{R}  \\to \\mathbb{R}$ using gradient descent with a fixed learning rate. It also plots both the function and the steps it makes until the minimum. It takes as arguments:\n",
    "* the function itself, $f$\n",
    "* $f' = \\nabla f$, the derivative of $f$ (computing derivatives, symbolically or numerically, is possible but tedious)\n",
    "* the learning rate $\\eta$\n",
    "* the stopping parameter, $\\epsilon$: the function stops when $|| \\nabla f || \\leq \\epsilon$"
   ]
  },
  {
   "cell_type": "code",
   "execution_count": 2,
   "metadata": {},
   "outputs": [
    {
     "data": {
      "image/png": "[encoded data removed]",
      "text/plain": [
       "<Figure size 432x288 with 1 Axes>"
      ]
     },
     "metadata": {},
     "output_type": "display_data"
    },
    {
     "data": {
      "text/plain": [
       "-0.0036561584400629744"
      ]
     },
     "execution_count": 2,
     "metadata": {},
     "output_type": "execute_result"
    }
   ],
   "source": [
    "def GD_minimum(f, f_prime, x_0, eta, epsilon):\n",
    "    x_func = np.linspace(-np.abs(x_0), np.abs(x_0), 1000)\n",
    "    y_func = f(x_func)\n",
    "    \n",
    "    x_values = [x_0]\n",
    "    y_values = [f(x_0)]\n",
    "    \n",
    "    x_temp = x_0\n",
    "    \n",
    "    while np.abs(f_prime(x_temp)) > epsilon:\n",
    "        x_temp -= eta*f_prime(x_temp)\n",
    "        x_values.append(x_temp)\n",
    "        y_values.append(f(x_temp))\n",
    "    \n",
    "    plt.plot(x_func, y_func)\n",
    "    plt.plot(x_values, y_values)\n",
    "    plt.show()\n",
    "    \n",
    "    return x_temp\n",
    "\n",
    "def f_0(x):\n",
    "    return x*x\n",
    "\n",
    "def f_0_prime(x):\n",
    "    return 2*x\n",
    "\n",
    "GD_minimum(f_0, f_0_prime, -100, 0.2, 0.01)"
   ]
  },
  {
   "cell_type": "markdown",
   "metadata": {},
   "source": [
    "Note that the algorithm stops at a point $x^*$ when $\\nabla f(x^*) \\simeq 0$. Yet we know that even $\\nabla f(x^*) = 0$ is not a sufficient condition to ensure $x^*$'s optimality: picture a saddle. One important situation when this is enough is when $f$ is convex. "
   ]
  },
  {
   "cell_type": "markdown",
   "metadata": {},
   "source": [
    "## Exercise 3: Stochastic Gradient Descent and Online learning\n",
    "\n",
    "**Stochastic gradient descent** is a computationally inexpensive variant of gradient descent for neural networks. Remember, the formula for the cost function: $C(w, b) = \\frac {1} {2n} \\sum \\limits_{x \\in X} ||y(x)-a||^2 $ with $X$ the training set. \n",
    "\n",
    "Taking $C_x := ||y(x)-a||^2$, we can rewrite $C(w, b) = \\frac {1} {2n} \\sum \\limits_{x \\in X} C_x $. Computing $\\nabla C(w, b) = \\frac {1} {n} \\sum \\limits_{x \\in X} \\nabla C_x $ would involve a gradient calculation for every training input. Instead, SGD chooses a **mini-batch** $\\{ X_1, ..., X_m \\} \\subset X$ of size $m << n$ at **random**, and computes $\\frac {1} {m} \\sum \\limits_{1 \\leq i \\leq m} \\nabla C_{X_i} \\simeq \\frac {1} {n} \\sum \\limits_{x \\in X} \\nabla C_x$ to adjust the weights and biases.\n",
    "\n",
    "**Online learning** is SGD with mini-batches of size $1$. This is especially useful when training inputs are being added during learning. However, there is no guarantee that each step will approximate the gradient correctly, whereas results such as the *central limit theorem* show that $\\frac {1} {m} \\sum \\limits_{1 \\leq i \\leq m} \\nabla C_{X_i}$ is close enough to the actual gradient for reasonably big values of $m$."
   ]
  },
  {
   "cell_type": "markdown",
   "metadata": {},
   "source": [
    "# IV. Implementing our network to classify digits"
   ]
  },
  {
   "cell_type": "markdown",
   "metadata": {},
   "source": [
    "Copy pasted some of Mike's code here."
   ]
  },
  {
   "cell_type": "markdown",
   "metadata": {},
   "source": [
    "## 1. Importing the data\n",
    "This is taken from ``mnist_loader.py```\n"
   ]
  },
  {
   "cell_type": "code",
   "execution_count": 3,
   "metadata": {},
   "outputs": [],
   "source": [
    "#### Libraries\n",
    "# Standard library\n",
    "import pickle\n",
    "import gzip\n",
    "\n",
    "def load_data():\n",
    "    \"\"\"Return the MNIST data as a tuple containing the training data,\n",
    "    the validation data, and the test data.\n",
    "\n",
    "    The ``training_data`` is returned as a tuple with two entries.\n",
    "    The first entry contains the actual training images.  This is a\n",
    "    numpy ndarray with 50,000 entries.  Each entry is, in turn, a\n",
    "    numpy ndarray with 784 values, representing the 28 * 28 = 784\n",
    "    pixels in a single MNIST image.\n",
    "\n",
    "    The second entry in the ``training_data`` tuple is a numpy ndarray\n",
    "    containing 50,000 entries.  Those entries are just the digit\n",
    "    values (0...9) for the corresponding images contained in the first\n",
    "    entry of the tuple.\n",
    "\n",
    "    The ``validation_data`` and ``test_data`` are similar, except\n",
    "    each contains only 10,000 images.\n",
    "\n",
    "    This is a nice data format, but for use in neural networks it's\n",
    "    helpful to modify the format of the ``training_data`` a little.\n",
    "    That's done in the wrapper function ``load_data_wrapper()``, see\n",
    "    below.\n",
    "    \"\"\"\n",
    "    f = gzip.open('NNDL_file/data/mnist.pkl.gz', 'rb')\n",
    "    training_data, validation_data, test_data = pickle.load(f,encoding='latin1')\n",
    "    f.close()\n",
    "    return (training_data, validation_data, test_data)\n",
    "\n",
    "def load_data_wrapper():\n",
    "    \"\"\"Return a tuple containing ``(training_data, validation_data,\n",
    "    test_data)``. Based on ``load_data``, but the format is more\n",
    "    convenient for use in our implementation of neural networks.\n",
    "\n",
    "    In particular, ``training_data`` is a list containing 50,000\n",
    "    2-tuples ``(x, y)``.  ``x`` is a 784-dimensional numpy.ndarray\n",
    "    containing the input image.  ``y`` is a 10-dimensional\n",
    "    numpy.ndarray representing the unit vector corresponding to the\n",
    "    correct digit for ``x``.\n",
    "\n",
    "    ``validation_data`` and ``test_data`` are lists containing 10,000\n",
    "    2-tuples ``(x, y)``.  In each case, ``x`` is a 784-dimensional\n",
    "    numpy.ndarry containing the input image, and ``y`` is the\n",
    "    corresponding classification, i.e., the digit values (integers)\n",
    "    corresponding to ``x``.\n",
    "\n",
    "    Obviously, this means we're using slightly different formats for\n",
    "    the training data and the validation / test data.  These formats\n",
    "    turn out to be the most convenient for use in our neural network\n",
    "    code.\"\"\"\n",
    "    tr_d, va_d, te_d = load_data()\n",
    "    training_inputs = [np.reshape(x, (784, 1)) for x in tr_d[0]]\n",
    "    training_results = [vectorized_result(y) for y in tr_d[1]]\n",
    "    training_data = zip(training_inputs, training_results)\n",
    "    validation_inputs = [np.reshape(x, (784, 1)) for x in va_d[0]]\n",
    "    validation_data = zip(validation_inputs, va_d[1])\n",
    "    test_inputs = [np.reshape(x, (784, 1)) for x in te_d[0]]\n",
    "    test_data = zip(test_inputs, te_d[1])\n",
    "    return (training_data, validation_data, test_data)\n",
    "\n",
    "def vectorized_result(j):\n",
    "    \"\"\"Return a 10-dimensional unit vector with a 1.0 in the jth\n",
    "    position and zeroes elsewhere.  This is used to convert a digit\n",
    "    (0...9) into a corresponding desired output from the neural\n",
    "    network.\"\"\"\n",
    "    e = np.zeros((10, 1))\n",
    "    e[j] = 1.0\n",
    "    return e\n",
    "\n"
   ]
  },
  {
   "cell_type": "markdown",
   "metadata": {},
   "source": [
    "## 2. Building the Neural Network\n",
    "\n",
    "We start with a ``Network`` class:\n",
    "* ``sizes`` is a list containing the number of neurons in each layer\n",
    "* biases and weights are initialized randomly, from normal distributions\n"
   ]
  },
  {
   "cell_type": "code",
   "execution_count": 4,
   "metadata": {},
   "outputs": [],
   "source": [
    "class Network(object):\n",
    "\n",
    "    def __init__(self, sizes):\n",
    "        self.num_layers = len(sizes)\n",
    "        self.sizes = sizes\n",
    "        self.biases = [np.random.randn(y, 1) for y in sizes[1:]]\n",
    "        self.weights = [np.random.randn(y, x) \n",
    "                        for x, y in zip(sizes[:-1], sizes[1:])]"
   ]
  },
  {
   "cell_type": "markdown",
   "metadata": {},
   "source": [
    "Let's create an instance ``net`` of this class:"
   ]
  },
  {
   "cell_type": "code",
   "execution_count": 5,
   "metadata": {},
   "outputs": [
    {
     "name": "stdout",
     "output_type": "stream",
     "text": [
      "[[-0.66141604  0.35533732]\n",
      " [ 0.32933628  1.39098231]\n",
      " [ 0.69897283  0.25768621]]\n",
      "\n",
      "[[-0.54250587  0.77577761  3.00767679]]\n"
     ]
    },
    {
     "data": {
      "text/plain": [
       "[array([[ 2.08337569],\n",
       "        [-1.4889273 ],\n",
       "        [ 0.01552329]]), array([[0.18657768]])]"
      ]
     },
     "execution_count": 5,
     "metadata": {},
     "output_type": "execute_result"
    }
   ],
   "source": [
    "net = Network([2, 3, 1])\n",
    "\n",
    "def M(i):\n",
    "    return net.weights[i]\n",
    "\n",
    "print(M(0))\n",
    "print()\n",
    "print(M(1))\n",
    "\n",
    "net.biases"
   ]
  },
  {
   "cell_type": "markdown",
   "metadata": {},
   "source": [
    "$M(i)$ is a numpy matrix storing the weights connecting neuron layers $i+1$ and $i+2$. To be more precise, $[M(i)]_{jk}$ is the weight for the connection between the $k^{th}$ neuron in the second layer, and the $j^{th}$ neuron in the third layer. This notation is counterintuitive: at first glance, using $M(i)$'s transpose would be easier. However, using $M(i)$ will simplify the algebra later.\n",
    "\n",
    "The vector output of all the neurons in layer $i+2$ is given by:\n",
    "\n",
    "$$ output_{i+2} = \\sigma (M(i) \\times output_{i+1} + b_{i+2}) \\ \\ \\ \\ \\ \\ \\ \\ \\ \\ \\ \\  \\ \\ \\ \\ \\ \\ \\ \\ \\ \\ \\ \\             (update)$$\n",
    "\n",
    "The proof for this is easy, it's just important not to get too confused with the notation, which is further complicated by the Python conventions."
   ]
  },
  {
   "cell_type": "markdown",
   "metadata": {},
   "source": [
    "## 3. Computing the output of a network"
   ]
  },
  {
   "cell_type": "markdown",
   "metadata": {},
   "source": [
    "First we define the sigmoid function, which is vectorized automatically:"
   ]
  },
  {
   "cell_type": "code",
   "execution_count": 6,
   "metadata": {},
   "outputs": [],
   "source": [
    "def sigmoid(z):\n",
    "    return 1.0/(1.0+np.exp(-z))"
   ]
  },
  {
   "cell_type": "markdown",
   "metadata": {},
   "source": [
    "We then add a method to the Network class, called ``feedforward``:\n",
    "* argument: input $a$ for the network, of type ``(n, 1) Numpy ndarray``\n",
    "* returns: the output of the network if $a$ is input"
   ]
  },
  {
   "cell_type": "code",
   "execution_count": 7,
   "metadata": {},
   "outputs": [],
   "source": [
    "def feedforward(self, a):\n",
    "    \"\"\"Return the output of the network if \"a\" is input.\"\"\"\n",
    "    for b, w in zip(self.biases, self.weights):\n",
    "        a = sigmoid(np.dot(w, a)+b)\n",
    "    return a\n"
   ]
  },
  {
   "cell_type": "markdown",
   "metadata": {},
   "source": [
    "## 4. Stochastic Gradient Descent"
   ]
  },
  {
   "cell_type": "markdown",
   "metadata": {},
   "source": [
    "Now to the Stochastic Gradient Descent itself. The code works as follows:\n",
    "\n",
    "In each epoch, the algorithm has to build mini-batches:\n",
    "* it starts by randomly shuffling the training data \n",
    "* it then partitions it into mini-batches of the appropriate size \n",
    "\n",
    "Then, the program has to modify the weights and biases:\n",
    "* for each mini-batch, ``self.update_mini_batch(mini_batch, eta)`` updates the network weights and biases according to a single iteration of gradient descent using just the training data in ``mini_batch``. "
   ]
  },
  {
   "cell_type": "code",
   "execution_count": 8,
   "metadata": {},
   "outputs": [],
   "source": [
    "    def SGD(self, training_data, epochs, mini_batch_size, eta,\n",
    "            test_data=None):\n",
    "        \"\"\"Train the neural network using mini-batch stochastic\n",
    "        gradient descent.  The \"training_data\" is a list of tuples\n",
    "        \"(x, y)\" representing the training inputs and the desired\n",
    "        outputs.  The other non-optional parameters are\n",
    "        self-explanatory.  If \"test_data\" is provided then the\n",
    "        network will be evaluated against the test data after each\n",
    "        epoch, and partial progress printed out.  This is useful for\n",
    "        tracking progress, but slows things down substantially.\"\"\"\n",
    "        if test_data: n_test = len(test_data)\n",
    "        n = len(training_data)\n",
    "        for j in range(epochs):\n",
    "            np.random.shuffle(training_data)\n",
    "            mini_batches = [\n",
    "                training_data[k:k+mini_batch_size]\n",
    "                for k in range(0, n, mini_batch_size)]\n",
    "            for mini_batch in mini_batches:\n",
    "                self.update_mini_batch(mini_batch, eta)\n",
    "            if test_data:\n",
    "                print(\"Epoch {0}: {1} / {2}\".format(\n",
    "                    j, self.evaluate(test_data), n_test))\n",
    "            else:\n",
    "                print(\"Epoch {0} complete\".format(j))\n"
   ]
  },
  {
   "cell_type": "markdown",
   "metadata": {},
   "source": [
    "\"Wait so ``self.update_mini_batch(mini_batch, eta)`` is doing all the work here right?\"Yes. Let's see how it works:"
   ]
  },
  {
   "cell_type": "code",
   "execution_count": 9,
   "metadata": {},
   "outputs": [],
   "source": [
    "    def update_mini_batch(self, mini_batch, eta):\n",
    "        \"\"\"Update the network's weights and biases by applying\n",
    "        gradient descent using backpropagation to a single mini batch.\n",
    "        The \"mini_batch\" is a list of tuples \"(x, y)\", and \"eta\"\n",
    "        is the learning rate.\"\"\"\n",
    "        nabla_b = [np.zeros(b.shape) for b in self.biases]\n",
    "        nabla_w = [np.zeros(w.shape) for w in self.weights]\n",
    "        for x, y in mini_batch:\n",
    "            delta_nabla_b, delta_nabla_w = self.backprop(x, y)\n",
    "            nabla_b = [nb+dnb for nb, dnb in zip(nabla_b, delta_nabla_b)]\n",
    "            nabla_w = [nw+dnw for nw, dnw in zip(nabla_w, delta_nabla_w)]\n",
    "        self.weights = [w-(eta/len(mini_batch))*nw \n",
    "                        for w, nw in zip(self.weights, nabla_w)]\n",
    "        self.biases = [b-(eta/len(mini_batch))*nb \n",
    "                       for b, nb in zip(self.biases, nabla_b)]\n"
   ]
  },
  {
   "cell_type": "markdown",
   "metadata": {},
   "source": [
    "\"Wait so it's ``self.backprop(x, y)`` that's doing all the work here in fact?\" Yes again. Backpropagation is an algorithm that computes the gradient of the cost function. We'll see how it works in more detail in the next chapter. For now we'll assume we know that it works, and use it with a clear conscience."
   ]
  },
  {
   "cell_type": "markdown",
   "metadata": {},
   "source": [
    "## 5. A few additional functions so we can test \n",
    "\n",
    "\n",
    "So far we've coded the following classes and functions:\n",
    "* ``Network`` class\n",
    "* ``feedforward`` method\n",
    "* ``update_mini_batch`` method\n",
    "* ``SGD`` method\n",
    "* ``sigmoid`` function\n",
    "\n",
    "We need a few additional functions:\n",
    "* the ``backprop`` method, as mentioned above\n",
    "* the ``cost_derivative`` method, that is used in backprop\n",
    "* ``sigmoid_prime``, the derivative of the sigmoid function\n",
    "* an ``evaluate`` method that returns the number of inputs for which the network got it right\n",
    "\n",
    "\n",
    "Below is the code for all these guys: we're not interested in them right now."
   ]
  },
  {
   "cell_type": "code",
   "execution_count": 10,
   "metadata": {},
   "outputs": [],
   "source": [
    "class Network(object):\n",
    "\n",
    "    def __init__(self, sizes):\n",
    "        \"\"\"The list ``sizes`` contains the number of neurons in the\n",
    "        respective layers of the network.  For example, if the list\n",
    "        was [2, 3, 1] then it would be a three-layer network, with the\n",
    "        first layer containing 2 neurons, the second layer 3 neurons,\n",
    "        and the third layer 1 neuron.  The biases and weights for the\n",
    "        network are initialized randomly, using a Gaussian\n",
    "        distribution with mean 0, and variance 1.  Note that the first\n",
    "        layer is assumed to be an input layer, and by convention we\n",
    "        won't set any biases for those neurons, since biases are only\n",
    "        ever used in computing the outputs from later layers.\"\"\"\n",
    "        self.num_layers = len(sizes)\n",
    "        self.sizes = sizes\n",
    "        self.biases = [np.random.randn(y, 1) for y in sizes[1:]]\n",
    "        self.weights = [np.random.randn(y, x)\n",
    "                        for x, y in zip(sizes[:-1], sizes[1:])]\n",
    "\n",
    "    def feedforward(self, a):\n",
    "        \"\"\"Return the output of the network if ``a`` is input.\"\"\"\n",
    "        for b, w in zip(self.biases, self.weights):\n",
    "            a = sigmoid(np.dot(w, a)+b)\n",
    "        return a\n",
    "\n",
    "    def SGD(self, training_data, epochs, mini_batch_size, eta,\n",
    "            test_data=None):\n",
    "        \"\"\"Train the neural network using mini-batch stochastic\n",
    "        gradient descent.  The \"training_data\" is a list of tuples\n",
    "        \"(x, y)\" representing the training inputs and the desired\n",
    "        outputs.  The other non-optional parameters are\n",
    "        self-explanatory.  If \"test_data\" is provided then the\n",
    "        network will be evaluated against the test data after each\n",
    "        epoch, and partial progress printed out.  This is useful for\n",
    "        tracking progress, but slows things down substantially.\"\"\"\n",
    "        if test_data: n_test = len(test_data)\n",
    "        n = len(training_data)\n",
    "        for j in range(epochs):\n",
    "            np.random.shuffle(training_data)\n",
    "            mini_batches = [\n",
    "                training_data[k:k+mini_batch_size]\n",
    "                for k in range(0, n, mini_batch_size)]\n",
    "            for mini_batch in mini_batches:\n",
    "                self.update_mini_batch(mini_batch, eta)\n",
    "            if test_data:\n",
    "                print(\"Epoch {0}: {1} / {2}\".format(\n",
    "                    j, self.evaluate(test_data), n_test))\n",
    "            else:\n",
    "                print(\"Epoch {0} complete\".format(j))\n",
    "\n",
    "    def update_mini_batch(self, mini_batch, eta):\n",
    "        \"\"\"Update the network's weights and biases by applying\n",
    "        gradient descent using backpropagation to a single mini batch.\n",
    "        The \"mini_batch\" is a list of tuples \"(x, y)\", and \"eta\"\n",
    "        is the learning rate.\"\"\"\n",
    "        nabla_b = [np.zeros(b.shape) for b in self.biases]\n",
    "        nabla_w = [np.zeros(w.shape) for w in self.weights]\n",
    "        for x, y in mini_batch:\n",
    "            delta_nabla_b, delta_nabla_w = self.backprop(x, y)\n",
    "            nabla_b = [nb+dnb for nb, dnb in zip(nabla_b, delta_nabla_b)]\n",
    "            nabla_w = [nw+dnw for nw, dnw in zip(nabla_w, delta_nabla_w)]\n",
    "        self.weights = [w-(eta/len(mini_batch))*nw \n",
    "                        for w, nw in zip(self.weights, nabla_w)]\n",
    "        self.biases = [b-(eta/len(mini_batch))*nb \n",
    "                       for b, nb in zip(self.biases, nabla_b)]\n",
    "\n",
    "    def backprop(self, x, y):\n",
    "        \"\"\"Return a tuple ``(nabla_b, nabla_w)`` representing the\n",
    "        gradient for the cost function C_x.  ``nabla_b`` and\n",
    "        ``nabla_w`` are layer-by-layer lists of numpy arrays, similar\n",
    "        to ``self.biases`` and ``self.weights``.\"\"\"\n",
    "        nabla_b = [np.zeros(b.shape) for b in self.biases]\n",
    "        nabla_w = [np.zeros(w.shape) for w in self.weights]\n",
    "        # feedforward\n",
    "        activation = x\n",
    "        activations = [x] # list to store all the activations, layer by layer\n",
    "        zs = [] # list to store all the z vectors, layer by layer\n",
    "        for b, w in zip(self.biases, self.weights):\n",
    "            z = np.dot(w, activation)+b\n",
    "            zs.append(z)\n",
    "            activation = sigmoid(z)\n",
    "            activations.append(activation)\n",
    "        # backward pass\n",
    "        delta = self.cost_derivative(activations[-1], y) * \\\n",
    "            sigmoid_prime(zs[-1])\n",
    "        nabla_b[-1] = delta\n",
    "        nabla_w[-1] = np.dot(delta, activations[-2].transpose())\n",
    "        # Note that the variable l in the loop below is used a little\n",
    "        # differently to the notation in Chapter 2 of the book.  Here,\n",
    "        # l = 1 means the last layer of neurons, l = 2 is the\n",
    "        # second-last layer, and so on.  It's a renumbering of the\n",
    "        # scheme in the book, used here to take advantage of the fact\n",
    "        # that Python can use negative indices in lists.\n",
    "        for l in range(2, self.num_layers):\n",
    "            z = zs[-l]\n",
    "            sp = sigmoid_prime(z)\n",
    "            delta = np.dot(self.weights[-l+1].transpose(), delta) * sp\n",
    "            nabla_b[-l] = delta\n",
    "            nabla_w[-l] = np.dot(delta, activations[-l-1].transpose())\n",
    "        return (nabla_b, nabla_w)\n",
    "\n",
    "    def evaluate(self, test_data):\n",
    "        \"\"\"Return the number of test inputs for which the neural\n",
    "        network outputs the correct result. Note that the neural\n",
    "        network's output is assumed to be the index of whichever\n",
    "        neuron in the final layer has the highest activation.\"\"\"\n",
    "        test_results = [(np.argmax(self.feedforward(x)), y)\n",
    "                        for (x, y) in test_data]\n",
    "        return sum(int(x == y) for (x, y) in test_results)\n",
    "\n",
    "    def cost_derivative(self, output_activations, y):\n",
    "        \"\"\"Return the vector of partial derivatives \\partial C_x /\n",
    "        \\partial a for the output activations.\"\"\"\n",
    "        return (output_activations-y)\n",
    "\n",
    "#### Miscellaneous functions\n",
    "\n",
    "def sigmoid_prime(z):\n",
    "    \"\"\"Derivative of the sigmoid function.\"\"\"\n",
    "    return sigmoid(z)*(1-sigmoid(z))\n",
    "    "
   ]
  },
  {
   "cell_type": "markdown",
   "metadata": {},
   "source": [
    "## 6. Testing the whole thing \n",
    "\n"
   ]
  },
  {
   "cell_type": "code",
   "execution_count": 11,
   "metadata": {},
   "outputs": [],
   "source": [
    "training_data, validation_data, test_data = load_data_wrapper()\n",
    "test_data = list(test_data)\n",
    "validation_data = list(validation_data)\n",
    "training_data = list(training_data)"
   ]
  },
  {
   "cell_type": "markdown",
   "metadata": {},
   "source": [
    "MNIST inputs are $28 \\times 28$ images, therefore the **input layer** is made up of $28 \\times 28 = 784$ input neurons.\n",
    "The output is an individual digit: as above, the **output layer** therefore contains $9$ neurons.\n",
    "We will here be using one **hidden layer** containing $30$ neurons.\n"
   ]
  },
  {
   "cell_type": "code",
   "execution_count": 12,
   "metadata": {},
   "outputs": [],
   "source": [
    "net = Network([784, 30, 10])"
   ]
  },
  {
   "cell_type": "markdown",
   "metadata": {},
   "source": [
    "Let's use Stochastic Gradient Descent on our network, with:\n",
    "* $30$ epochs\n",
    "* mini-batches of size $10$\n",
    "* a learning rate $\\eta = 3.0$"
   ]
  },
  {
   "cell_type": "code",
   "execution_count": 13,
   "metadata": {},
   "outputs": [
    {
     "name": "stdout",
     "output_type": "stream",
     "text": [
      "Epoch 0: 9044 / 10000\n",
      "Epoch 1: 9199 / 10000\n",
      "Epoch 2: 9324 / 10000\n",
      "Epoch 3: 9333 / 10000\n",
      "Epoch 4: 9319 / 10000\n",
      "Epoch 5: 9376 / 10000\n",
      "Epoch 6: 9364 / 10000\n",
      "Epoch 7: 9355 / 10000\n",
      "Epoch 8: 9406 / 10000\n",
      "Epoch 9: 9439 / 10000\n",
      "Epoch 10: 9372 / 10000\n",
      "Epoch 11: 9450 / 10000\n",
      "Epoch 12: 9424 / 10000\n",
      "Epoch 13: 9463 / 10000\n",
      "Epoch 14: 9433 / 10000\n",
      "Epoch 15: 9430 / 10000\n",
      "Epoch 16: 9447 / 10000\n",
      "Epoch 17: 9446 / 10000\n",
      "Epoch 18: 9443 / 10000\n",
      "Epoch 19: 9448 / 10000\n",
      "Epoch 20: 9421 / 10000\n",
      "Epoch 21: 9456 / 10000\n",
      "Epoch 22: 9457 / 10000\n",
      "Epoch 23: 9456 / 10000\n",
      "Epoch 24: 9446 / 10000\n",
      "Epoch 25: 9455 / 10000\n",
      "Epoch 26: 9468 / 10000\n",
      "Epoch 27: 9440 / 10000\n",
      "Epoch 28: 9474 / 10000\n",
      "Epoch 29: 9459 / 10000\n"
     ]
    }
   ],
   "source": [
    "net.SGD(training_data, 30, 10, 3.0, test_data=test_data)"
   ]
  },
  {
   "cell_type": "markdown",
   "metadata": {},
   "source": [
    "## 7. (Very) Minor differences with Mike's algorithm"
   ]
  },
  {
   "cell_type": "markdown",
   "metadata": {},
   "source": [
    "* This runs on Python 3 so\n",
    "    - Because zip doesn't return a list anymore, I converted training, test and validation data into lists (https://stackoverflow.com/questions/27431390/typeerror-zip-object-is-not-subscriptable) \n",
    "    - I used ``range`` instead of ``xrange``\n",
    "    - I replaced ``cPickle`` with ``pickle``, and ``pickle.load(f)`` \n",
    "    "
   ]
  },
  {
   "cell_type": "markdown",
   "metadata": {},
   "source": [
    "## 8. Exercise: a network without hidden layers"
   ]
  },
  {
   "cell_type": "code",
   "execution_count": 14,
   "metadata": {},
   "outputs": [],
   "source": [
    "net_two_layers = Network([784, 10])"
   ]
  },
  {
   "cell_type": "markdown",
   "metadata": {},
   "source": [
    "Let's use Stochastic Gradient Descent on this network too, with, as above:\n",
    "* $30$ epochs\n",
    "* mini-batches of size $10$\n",
    "* a learning rate $\\eta = 3.0$"
   ]
  },
  {
   "cell_type": "code",
   "execution_count": 15,
   "metadata": {},
   "outputs": [
    {
     "name": "stdout",
     "output_type": "stream",
     "text": [
      "Epoch 0: 7203 / 10000\n",
      "Epoch 1: 7382 / 10000\n",
      "Epoch 2: 7441 / 10000\n",
      "Epoch 3: 7468 / 10000\n",
      "Epoch 4: 7438 / 10000\n",
      "Epoch 5: 7430 / 10000\n",
      "Epoch 6: 7463 / 10000\n",
      "Epoch 7: 7480 / 10000\n",
      "Epoch 8: 7483 / 10000\n",
      "Epoch 9: 7500 / 10000\n",
      "Epoch 10: 7501 / 10000\n",
      "Epoch 11: 7498 / 10000\n",
      "Epoch 12: 8307 / 10000\n",
      "Epoch 13: 8284 / 10000\n",
      "Epoch 14: 8317 / 10000\n",
      "Epoch 15: 8333 / 10000\n",
      "Epoch 16: 8362 / 10000\n",
      "Epoch 17: 8356 / 10000\n",
      "Epoch 18: 8361 / 10000\n",
      "Epoch 19: 8339 / 10000\n",
      "Epoch 20: 8347 / 10000\n",
      "Epoch 21: 8316 / 10000\n",
      "Epoch 22: 8334 / 10000\n",
      "Epoch 23: 8333 / 10000\n",
      "Epoch 24: 8354 / 10000\n",
      "Epoch 25: 8342 / 10000\n",
      "Epoch 26: 8345 / 10000\n",
      "Epoch 27: 8354 / 10000\n",
      "Epoch 28: 8348 / 10000\n",
      "Epoch 29: 8354 / 10000\n"
     ]
    }
   ],
   "source": [
    "net_two_layers.SGD(training_data, 30, 10, 3.0, test_data=test_data)"
   ]
  },
  {
   "cell_type": "markdown",
   "metadata": {},
   "source": [
    "It's not as good."
   ]
  }
 ],
 "metadata": {
  "kernelspec": {
   "display_name": "Python 3",
   "language": "python",
   "name": "python3"
  },
  "language_info": {
   "codemirror_mode": {
    "name": "ipython",
    "version": 3
   },
   "file_extension": ".py",
   "mimetype": "text/x-python",
   "name": "python",
   "nbconvert_exporter": "python",
   "pygments_lexer": "ipython3",
   "version": "3.6.5"
  }
 },
 "nbformat": 4,
 "nbformat_minor": 2
}
